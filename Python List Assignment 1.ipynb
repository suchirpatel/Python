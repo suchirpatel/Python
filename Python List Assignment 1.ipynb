{
 "cells": [
  {
   "cell_type": "code",
   "execution_count": 171,
   "metadata": {},
   "outputs": [
    {
     "name": "stdout",
     "output_type": "stream",
     "text": [
      "Generating List 1 : [19, 26, 15, 14, 7]\n",
      "Generating List 2 : [23, 12, 9, 7, -15]\n"
     ]
    }
   ],
   "source": [
    "#import random\n",
    "\n",
    "random_list1 = random.sample(range(-10, 30), 5)\n",
    "random_list2 = random.sample(range(-15, 25), 5)\n",
    "print(\"Generating List 1 :\",random_list1)\n",
    "print(\"Generating List 2 :\",random_list2)"
   ]
  },
  {
   "cell_type": "markdown",
   "metadata": {},
   "source": [
    "# Python Program to Find the Largest and Second Largest Number in a List"
   ]
  },
  {
   "cell_type": "code",
   "execution_count": 172,
   "metadata": {},
   "outputs": [
    {
     "name": "stdout",
     "output_type": "stream",
     "text": [
      "List 1 :  [7, 14, 15, 19, 26]\n",
      "The Largest Number in a random_list1 is : 26\n",
      "The Second Largest Number in a random_list1 is : 19\n"
     ]
    }
   ],
   "source": [
    "#Python Program to Find the Largest and Second Largest Number in a List\n",
    "\n",
    "random_list1.sort()\n",
    "\n",
    "print(\"List 1 : \",random_list1)\n",
    "print (\"The Largest Number in a random_list1 is :\",random_list1[-1] )\n",
    "print (\"The Second Largest Number in a random_list1 is :\",random_list1[-2] )\n"
   ]
  },
  {
   "cell_type": "markdown",
   "metadata": {},
   "source": [
    "# Python Program to Merge Two Lists and Sort it"
   ]
  },
  {
   "cell_type": "code",
   "execution_count": 173,
   "metadata": {},
   "outputs": [
    {
     "name": "stdout",
     "output_type": "stream",
     "text": [
      "List 1 : [7, 14, 15, 19, 26]\n",
      "List 2 : [23, 12, 9, 7, -15]\n",
      "Merging Two List : [7, 14, 15, 19, 26, 23, 12, 9, 7, -15]\n",
      "Soting the Merged List : [-15, 7, 7, 9, 12, 14, 15, 19, 23, 26]\n"
     ]
    }
   ],
   "source": [
    " #Python Program to Merge Two Lists and Sort it\n",
    "print(\"List 1 :\",random_list1)\n",
    "print(\"List 2 :\",random_list2)\n",
    "random_list1.extend(random_list2)\n",
    "print(\"Merging Two List :\" ,random_list1)\n",
    "random_list1.sort()\n",
    "print(\"Soting the Merged List :\",random_list1)"
   ]
  },
  {
   "cell_type": "markdown",
   "metadata": {},
   "source": [
    "# Python Program to Swap the First and Last Value of a List"
   ]
  },
  {
   "cell_type": "code",
   "execution_count": 174,
   "metadata": {},
   "outputs": [
    {
     "name": "stdout",
     "output_type": "stream",
     "text": [
      "List before swaping list:  [-15, 7, 7, 9, 12, 14, 15, 19, 23, 26]\n"
     ]
    }
   ],
   "source": [
    "\n",
    "print(\"List before swaping list: \",random_list1) "
   ]
  },
  {
   "cell_type": "code",
   "execution_count": 175,
   "metadata": {},
   "outputs": [
    {
     "name": "stdout",
     "output_type": "stream",
     "text": [
      "first Value of random_list1 is -15 and last value of random_list1 is 26\n"
     ]
    }
   ],
   "source": [
    "#keeping the Fisrt and Last value of list in variables\n",
    "firstValue = random_list1[0]\n",
    "lastValue =random_list1[-1]\n",
    "print(f\"first Value of random_list1 is {firstValue} and last value of random_list1 is {lastValue}\")\n"
   ]
  },
  {
   "cell_type": "code",
   "execution_count": 176,
   "metadata": {},
   "outputs": [
    {
     "name": "stdout",
     "output_type": "stream",
     "text": [
      "After Removing the First and Last values from the list :  [7, 7, 9, 12, 14, 15, 19, 23]\n"
     ]
    }
   ],
   "source": [
    "random_list1.pop(0)\n",
    "random_list1.pop(-1)\n",
    "print(\"After Removing the First and Last values from the list : \",random_list1)"
   ]
  },
  {
   "cell_type": "code",
   "execution_count": 177,
   "metadata": {},
   "outputs": [
    {
     "name": "stdout",
     "output_type": "stream",
     "text": [
      "After swaping the first and last value of the List:  [26, 7, 7, 9, 12, 14, 15, 19, 23, -15]\n"
     ]
    }
   ],
   "source": [
    "#swaping the first and last value of  List\n",
    "random_list1.insert(0,lastValue)\n",
    "random_list1.append(firstValue)\n",
    "print(\"After swaping the first and last value of the List: \",random_list1)"
   ]
  },
  {
   "cell_type": "code",
   "execution_count": null,
   "metadata": {},
   "outputs": [],
   "source": []
  }
 ],
 "metadata": {
  "kernelspec": {
   "display_name": "Python 3",
   "language": "python",
   "name": "python3"
  },
  "language_info": {
   "codemirror_mode": {
    "name": "ipython",
    "version": 3
   },
   "file_extension": ".py",
   "mimetype": "text/x-python",
   "name": "python",
   "nbconvert_exporter": "python",
   "pygments_lexer": "ipython3",
   "version": "3.8.3"
  }
 },
 "nbformat": 4,
 "nbformat_minor": 4
}
